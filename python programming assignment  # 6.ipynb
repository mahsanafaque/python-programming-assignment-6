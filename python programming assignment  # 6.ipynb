{
 "cells": [
  {
   "cell_type": "markdown",
   "metadata": {},
   "source": [
    "## Assignment # 6"
   ]
  },
  {
   "cell_type": "markdown",
   "metadata": {},
   "source": [
    "# Question 1: Define Object Oriented Programming Language?\n",
    "# Answer: Object-oriented programming (OOP) is a programming paradigm based on the concept of \"objects\", which can contain data, in the form of fields (often known as attributes or properties), and code, in the form of procedures (often known as methods). A feature of objects is an object's procedures that can access and often modify the data fields of the object with which they are associated (objects have a notion of \"this\" or \"self\"). In OOP, computer programs are designed by making them out of objects that interact with one another.OOP languages are diverse, but the most popular ones are class-based, meaning that objects are instances of classes."
   ]
  },
  {
   "cell_type": "markdown",
   "metadata": {},
   "source": [
    "# Question 2: List down the Benefits of OOP?\n",
    "\n",
    "# Answer : 4 benefits of OOP: \n",
    "\n",
    "# 1. Modularity for easier troubleshooting.\n",
    "# 2. Reuse of code through inheritance.\n",
    "# 3. Flexibility through polymorphism.\n",
    "# 4. Effective problem solving."
   ]
  },
  {
   "cell_type": "markdown",
   "metadata": {},
   "source": [
    "# Question 3 : Differentiate between function and method?\n",
    "\n",
    "# Answer :Difference Between methods and function in python.\n",
    "\n",
    "# 1) Defined Functions\n",
    "\n",
    "# Like any other programming language, Python lets us define our own functions. Let’s take an example."
   ]
  },
  {
   "cell_type": "code",
   "execution_count": null,
   "metadata": {},
   "outputs": [],
   "source": [
    "def add(a,b):\n",
    "        return a+b\n",
    "add(3,-3)"
   ]
  },
  {
   "cell_type": "markdown",
   "metadata": {},
   "source": [
    "# 2) Python Methods – A Revision:\n",
    "\n",
    "# Python method is like a function, except it is attached to an object. We call a method on an object, and it possibly makes changes to that object. A method, then, belongs to a class. Let’s take an example."
   ]
  },
  {
   "cell_type": "code",
   "execution_count": 5,
   "metadata": {},
   "outputs": [
    {
     "name": "stdout",
     "output_type": "stream",
     "text": [
      "Starting engine\n",
      "I am black\n"
     ]
    }
   ],
   "source": [
    ">>> class vehicle:\n",
    "  def __init__(self,color):\n",
    "    self.color=color\n",
    "  def start(self):\n",
    "    print(\"Starting engine\")\n",
    "  def showcolor(self):\n",
    "    print(f\"I am {self.color}\")\n",
    ">>> car=vehicle('black')\n",
    ">>> car.start()\n",
    ">>> car.showcolor()"
   ]
  },
  {
   "cell_type": "markdown",
   "metadata": {},
   "source": [
    "# Question 4:\n",
    "# Define the following terms:\n",
    "# 1. Class\n",
    "# 2. Object\n",
    "# 3. Attribute\n",
    "# 4. Behavior\n",
    "\n",
    "# Answer : We have already seen how we can use a dictionary to group related data together, and how we can use functions to create shortcuts for commonly used groups of statements. A function performs an action using some set of input parameters. Not all functions are applicable to all kinds of data. Classes are a way of grouping together related data and functions which act upon that data.\n",
    "\n",
    "# A class is a kind of data type, just like a string, integer or list. When we create an object of that data type, we call it an instance of a class.\n",
    "\n",
    "# 1) Defining and using a class\n",
    "\n",
    "# Here is an example of a simple custom class which stores information about a person:"
   ]
  },
  {
   "cell_type": "code",
   "execution_count": 11,
   "metadata": {},
   "outputs": [
    {
     "name": "stdout",
     "output_type": "stream",
     "text": [
      "Ahsan\n",
      "mahsanleo@gmail.com\n",
      "34\n"
     ]
    }
   ],
   "source": [
    "import datetime # we will use this for date objects\n",
    "\n",
    "class Person:\n",
    "\n",
    "    def __init__(self, name, surname, birthdate, address, telephone, email):\n",
    "        self.name = name\n",
    "        self.surname = surname\n",
    "        self.birthdate = birthdate\n",
    "\n",
    "        self.address = address\n",
    "        self.telephone = telephone\n",
    "        self.email = email\n",
    "\n",
    "    def age(self):\n",
    "        today = datetime.date.today()\n",
    "        age = today.year - self.birthdate.year\n",
    "\n",
    "        if today < datetime.date(today.year, self.birthdate.month, self.birthdate.day):\n",
    "            age -= 1\n",
    "\n",
    "        return age\n",
    "\n",
    "person = Person(\n",
    "    \"Ahsan\",\n",
    "    \"Afaque\",\n",
    "    datetime.date(1985, 8, 23), # year, month, day\n",
    "    \"H# 5,Area C-1,Landhi # 1,karachi\",\n",
    "    \"03362264410\",\n",
    "    \"mahsanleo@gmail.com\"\n",
    ")\n",
    "\n",
    "print(person.name)\n",
    "print(person.email)\n",
    "print(person.age())"
   ]
  },
  {
   "cell_type": "markdown",
   "metadata": {},
   "source": [
    "# 2) Object :\n",
    "\n",
    "#  Python is an object oriented programming language. Unlike procedure oriented programming, where the main emphasis is on functions, object oriented programming stress on objects. Object is simply a collection of data (variables) and methods (functions) that act on those data. And, class is a blueprint for the object.\n",
    "\n",
    "#  ob = Myclass()"
   ]
  },
  {
   "cell_type": "code",
   "execution_count": 22,
   "metadata": {},
   "outputs": [
    {
     "name": "stdout",
     "output_type": "stream",
     "text": [
      "<function MyClass.func at 0x000001ECF65E95E8>\n",
      "<bound method MyClass.func of <__main__.MyClass object at 0x000001ECF65EC348>>\n",
      "Hello\n"
     ]
    }
   ],
   "source": [
    "class MyClass:\n",
    "\t\"This is my second class\"\n",
    "\ta = 10\n",
    "\tdef func(self):\n",
    "\t\tprint('Hello')\n",
    "\n",
    "# create a new MyClass\n",
    "ob = MyClass()\n",
    "\n",
    "# Output: <function MyClass.func at 0x000000000335B0D0>\n",
    "print(MyClass.func)\n",
    "\n",
    "# Output: <bound method MyClass.func of <__main__.MyClass object at 0x000000000332DEF0>>\n",
    "print(ob.func)\n",
    "\n",
    "# Calling function func()\n",
    "# Output: Hello\n",
    "ob.func()"
   ]
  },
  {
   "cell_type": "markdown",
   "metadata": {},
   "source": [
    "# 3) attribute :\n",
    "\n",
    "# Everything in Python is an object, and almost everything has attributes and methods. In python, functions too are objects. So they have attributes like other objects. All functions have a built-in attribute __doc__, which returns the doc string defined in the function source code. We can also assign new attributes to them, as well as retrieve the values of those attributesFor handling attributes, Python provides us with “getattr” and “setattr”, a function that takes three arguments. There is no difference between “setattr” and using the dot-notation on the left side of the = assignment operator:\n",
    "\n",
    "# The given code can be written as follows to assign and retrieve attributes."
   ]
  },
  {
   "cell_type": "code",
   "execution_count": 23,
   "metadata": {},
   "outputs": [
    {
     "name": "stdout",
     "output_type": "stream",
     "text": [
      "32\n",
      "male\n",
      "Ahsan Afaque\n",
      "32\n"
     ]
    }
   ],
   "source": [
    "def foo():\n",
    "    pass\n",
    "setattr(foo, 'age', 32 )\n",
    "setattr(foo, 'name', 'Ahsan Afaque' )\n",
    "print(getattr(foo, 'age'))\n",
    "foo.gender ='male'\n",
    "print(foo.gender)\n",
    "print(foo.name)\n",
    "print(foo.age)"
   ]
  },
  {
   "cell_type": "markdown",
   "metadata": {},
   "source": [
    "# Behavior :\n",
    "\n",
    "# A class's behavior determines how an instance of that class operates; for example, how it will \"react\" if asked to do something by another class or object or if its internal state changes. Behavior is the only way objects can do anything to themselves or have anything done to them.\n",
    "# Let’s pretend that we’re at a dog park. There are multiple Dog objects engaging in Dog behaviors, each with different attributes. In regular-speak that means some dogs are running, while some are stretching and some are just watching other dogs. Furthermore, each dog has been named by its owner and, since each dog is living and breathing, each ages.\n",
    "\n",
    "# What’s another way to differentiate one dog from another? How about the dog’s breed:"
   ]
  },
  {
   "cell_type": "code",
   "execution_count": null,
   "metadata": {},
   "outputs": [],
   "source": [
    ">>> class Dog:\n",
    "...     def __init__(self, breed):\n",
    "...         self.breed = breed\n",
    "...\n",
    ">>> spencer = Dog(\"German Shepard\")\n",
    ">>> spencer.breed\n",
    "'German Shepard'\n",
    ">>> sara = Dog(\"Boston Terrier\")\n",
    ">>> sara.breed\n",
    "'Boston Terrier'"
   ]
  },
  {
   "cell_type": "markdown",
   "metadata": {},
   "source": [
    "# Each breed of dog has slightly different behaviors. To take these into account, let’s create separate classes for each breed. These are child classes of the parent Dog class.\n",
    "\n",
    "# Extending the Functionality of a Parent Class"
   ]
  },
  {
   "cell_type": "code",
   "execution_count": 28,
   "metadata": {},
   "outputs": [
    {
     "name": "stdout",
     "output_type": "stream",
     "text": [
      "Jim is 12 years old\n",
      "Jim runs slowly\n"
     ]
    }
   ],
   "source": [
    "# Parent class\n",
    "class Dog:\n",
    "\n",
    "    # Class attribute\n",
    "    species = 'mammal'\n",
    "\n",
    "    # Initializer / Instance attributes\n",
    "    def __init__(self, name, age):\n",
    "        self.name = name\n",
    "        self.age = age\n",
    "\n",
    "    # instance method\n",
    "    def description(self):\n",
    "        return \"{} is {} years old\".format(self.name, self.age)\n",
    "\n",
    "    # instance method\n",
    "    def speak(self, sound):\n",
    "        return \"{} says {}\".format(self.name, sound)\n",
    "\n",
    "\n",
    "# Child class (inherits from Dog class)\n",
    "class RussellTerrier(Dog):\n",
    "    def run(self, speed):\n",
    "        return \"{} runs {}\".format(self.name, speed)\n",
    "\n",
    "\n",
    "# Child class (inherits from Dog class)\n",
    "class Bulldog(Dog):\n",
    "    def run(self, speed):\n",
    "        return \"{} runs {}\".format(self.name, speed)\n",
    "\n",
    "\n",
    "# Child classes inherit attributes and\n",
    "# behaviors from the parent class\n",
    "jim = Bulldog(\"Jim\", 12)\n",
    "print(jim.description())\n",
    "\n",
    "# Child classes have specific attributes\n",
    "# and behaviors as well\n",
    "print(jim.run(\"slowly\"))"
   ]
  },
  {
   "cell_type": "markdown",
   "metadata": {},
   "source": [
    "# Question 5:\n",
    "\n",
    "# Write a code in python in which create a class named it Car which\n",
    "# have 5 attributes such like (model, color and name etc.) and 3\n",
    "# methods. And create 5 object instance from that class."
   ]
  },
  {
   "cell_type": "code",
   "execution_count": 72,
   "metadata": {},
   "outputs": [
    {
     "name": "stdout",
     "output_type": "stream",
     "text": [
      "10\n",
      "<function MyClass.func at 0x000001ECF6697B88>\n",
      "This is my second class\n"
     ]
    }
   ],
   "source": [
    "class MyClass:\n",
    "\t\"This is my second class\"\n",
    "\ta = 10\n",
    "\tdef func(self):\n",
    "\t\tprint('Hello')\n",
    "\n",
    "# Output: 10\n",
    "print(MyClass.a)\n",
    "\n",
    "# Output: <function MyClass.func at 0x0000000003079BF8>\n",
    "print(MyClass.func)\n",
    "\n",
    "# Output: 'This is my second class'\n",
    "print(MyClass.__doc__)"
   ]
  },
  {
   "cell_type": "code",
   "execution_count": 71,
   "metadata": {},
   "outputs": [
    {
     "name": "stdout",
     "output_type": "stream",
     "text": [
      "{'model': 'Ferrari', 'color': 'yellow', 'currSpeed': 0, 'maxSpeed': 200, 'mpg': 10, 'currFuel': 40, 'mileage': 0}\n"
     ]
    }
   ],
   "source": [
    "def makeCarClass():\n",
    "    def initialize(self, model, color, currSpeed, maxSpeed, mpg, currFuel, mileage):\n",
    "        self[\"model\"] = model \n",
    "        self[\"color\"] = color\n",
    "        self[\"currSpeed\"] = currSpeed\n",
    "        self[\"maxSpeed\"] = maxSpeed\n",
    "        self[\"mpg\"] = mpg \n",
    "        self[\"currFuel\"] = currFuel\n",
    "        self[\"mileage\"] = mileage\n",
    "        return self\n",
    "\n",
    "    def changeSpeed(self, amount):\n",
    "        newSpeed = self[\"currSpeed\"] + amount\n",
    "        if newSpeed >= self[\"maxSpeed\"]:\n",
    "            self[\"currSpeed\"] = self[\"maxSpeed\"]\n",
    "        elif newSpeed <=0:\n",
    "            self[\"currSpeed\"] = 0\n",
    "        else:\n",
    "            self[\"currSpeed\"] = newSpeed\n",
    "\n",
    "    def move(self, miles):\n",
    "        fuelNeeded = miles/self[\"mpg\"]\n",
    "        currFuel = self[\"currFuel\"]\n",
    "        if currFuel <= fuelNeeded:\n",
    "            self[\"currFuel\"] = 0\n",
    "            self[\"mileage\"] = self[\"mileage\"] + currFuel * self[\"mpg\"]\n",
    "            print(\"Warning: Your car has run out of fuel\")\n",
    "\n",
    "        else:\n",
    "            self[\"currFuel\"] = currFuel - fuelNeeded\n",
    "            self[\"mileage\"] = self[\"mileage\"] + miles\n",
    "\n",
    "    return {\"initialize\":initialize, \"changeSpeed\":changeSpeed, \"move\":move}\n",
    "\n",
    "\n",
    "carClass = makeCarClass()\n",
    "\n",
    "car1 = carClass[\"initialize\"]({},\"Ferrari\", \"yellow\", 0, 200, 10, 40, 0)\n",
    "car2 = carClass[\"initialize\"]({},\"Honda\", \"black\", 0, 120, 30, 40, 0)\n",
    "print(car1)"
   ]
  },
  {
   "cell_type": "code",
   "execution_count": 70,
   "metadata": {},
   "outputs": [
    {
     "name": "stdout",
     "output_type": "stream",
     "text": [
      "Blu is a bird\n",
      "Woo is also a bird\n",
      "Blu is 10 years old\n",
      "Woo is 15 years old\n"
     ]
    }
   ],
   "source": [
    "class Parrot:\n",
    "\n",
    "    # class attribute\n",
    "    species = \"bird\"\n",
    "\n",
    "    # instance attribute\n",
    "    def __init__(self, name, age):\n",
    "        self.name = name\n",
    "        self.age = age\n",
    "\n",
    "# instantiate the Parrot class\n",
    "blu = Parrot(\"Blu\", 10)\n",
    "woo = Parrot(\"Woo\", 15)\n",
    "\n",
    "# access the class attributes\n",
    "print(\"Blu is a {}\".format(blu.__class__.species))\n",
    "print(\"Woo is also a {}\".format(woo.__class__.species))\n",
    "\n",
    "# access the instance attributes\n",
    "print(\"{} is {} years old\".format( blu.name, blu.age))\n",
    "print(\"{} is {} years old\".format( woo.name, woo.age))"
   ]
  },
  {
   "cell_type": "code",
   "execution_count": 73,
   "metadata": {},
   "outputs": [
    {
     "name": "stdout",
     "output_type": "stream",
     "text": [
      "<function MyClass.func at 0x000001ECF66AC558>\n",
      "<bound method MyClass.func of <__main__.MyClass object at 0x000001ECF66BFE48>>\n",
      "Hello\n"
     ]
    }
   ],
   "source": [
    "class MyClass:\n",
    "\t\"This is my second class\"\n",
    "\ta = 10\n",
    "\tdef func(self):\n",
    "\t\tprint('Hello')\n",
    "\n",
    "# create a new MyClass\n",
    "ob = MyClass()\n",
    "\n",
    "# Output: <function MyClass.func at 0x000000000335B0D0>\n",
    "print(MyClass.func)\n",
    "\n",
    "# Output: <bound method MyClass.func of <__main__.MyClass object at 0x000000000332DEF0>>\n",
    "print(ob.func)\n",
    "\n",
    "# Calling function func()\n",
    "# Output: Hello\n",
    "ob.func()"
   ]
  },
  {
   "cell_type": "code",
   "execution_count": 75,
   "metadata": {},
   "outputs": [
    {
     "name": "stdout",
     "output_type": "stream",
     "text": [
      "car.__name__ =  car\n",
      "car.__doc__ =  A simple class for cars\n",
      "car.__module__ =  __main__\n",
      "car.__dict__ =  {'__module__': '__main__', '__doc__': 'A simple class for cars', '__init__': <function car.__init__ at 0x000001ECF66E6558>, 'display': <function car.display at 0x000001ECF66E6708>, '__dict__': <attribute '__dict__' of 'car' objects>, '__weakref__': <attribute '__weakref__' of 'car' objects>}\n"
     ]
    }
   ],
   "source": [
    "class car:\n",
    "  \"A simple class for cars\"\n",
    " \n",
    "  #Constructor to initialize\n",
    "  def __init__(self,company,color):\n",
    "    self.company = company\n",
    "    self.color = color  #making color private\n",
    "\n",
    "  #function to print car company and color\n",
    "  def display(self):\n",
    "    print ('This is a', self.color, self.company)\n",
    "\n",
    "print ('car.__name__ = ',car.__name__)\n",
    "print ('car.__doc__ = ',car.__doc__)\n",
    "print ('car.__module__ = ',car.__module__)\n",
    "print ('car.__dict__ = ',car.__dict__)"
   ]
  },
  {
   "cell_type": "code",
   "execution_count": null,
   "metadata": {},
   "outputs": [],
   "source": []
  }
 ],
 "metadata": {
  "kernelspec": {
   "display_name": "Python 3",
   "language": "python",
   "name": "python3"
  },
  "language_info": {
   "codemirror_mode": {
    "name": "ipython",
    "version": 3
   },
   "file_extension": ".py",
   "mimetype": "text/x-python",
   "name": "python",
   "nbconvert_exporter": "python",
   "pygments_lexer": "ipython3",
   "version": "3.7.4"
  }
 },
 "nbformat": 4,
 "nbformat_minor": 2
}
